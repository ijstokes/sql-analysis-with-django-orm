{
 "metadata": {
  "name": ""
 },
 "nbformat": 3,
 "nbformat_minor": 0,
 "worksheets": [
  {
   "cells": [
    {
     "cell_type": "markdown",
     "metadata": {
      "slideshow": {
       "slide_type": "slide"
      }
     },
     "source": [
      "Django ORM For SQL Data Analysis\n",
      "================================\n",
      "\n",
      "* Clone my tutorial notes from github: https://github.com/ijstokes/sql-analysis-with-django-orm.git\n",
      "\n",
      "* Using MySQL [Employees Test DB](https://launchpad.net/test-db/) for trial data, with modified [employees.sql](employees.sql) to work with SQLite3.\n",
      "\n",
      "* Don't download this now -- 25 MB, and some work to massage data\n",
      "    * Hint if you use vim, adapt for other language search/replace:\n",
      "```\n",
      "%s/),/);^M INSERT INTO `replace_with_table_name` VALUES/g\n",
      "```\n",
      "\n",
      "* Unzip the Employees test database into the GitHub directory\n"
     ]
    },
    {
     "cell_type": "markdown",
     "metadata": {
      "slideshow": {
       "slide_type": "slide"
      }
     },
     "source": [
      "Create SQLite3 DB from SQL Dump\n",
      "-------------------------------\n",
      "```\n",
      "sqlite3 -init employees.sql employees.db\n",
      "```\n",
      "\n",
      "This will create 6 tables.  The main one is:\n",
      "* Employees\n",
      "    * `emp_no`\n",
      "    * `birth_date`\n",
      "    * `first_name`\n",
      "    * `last_name`\n",
      "    * `gender`\n",
      "    * `hire_date`\n",
      "\n",
      "The other 5 describe:\n",
      "    * Departments\n",
      "    * Managers (DeptManager)\n",
      "    * Salaries\n",
      "    * Titles\n",
      "    * Department Assignments (DeptEmp)\n",
      "\n",
      "Slurping this data in takes a little while (about 30 minutes for me)."
     ]
    },
    {
     "cell_type": "markdown",
     "metadata": {},
     "source": [
      "Initialize Django Environment\n",
      "-----------------------------\n",
      "\n",
      "You need to have Django installed.  A few of these options will work if you don't have it already:\n",
      "\n",
      "```bash\n",
      "pip install django\n",
      "conda install django\n",
      "```\n",
      "\n",
      "Now initialize the Django project:\n",
      "\n",
      "```bash\n",
      "django-admin.py startproject datasnoop\n",
      "mv datasnoop/datasnoop/* datasnoop\n",
      "rm -Rf datasnoop/datasnoop\n",
      "```\n",
      "\n",
      "This sets up the basic Django pieces.  Now we need to add the \"app\" that will be the specific container for the Employee data:\n",
      "\n",
      "```bash\n",
      "cd datasnoop\n",
      "./manage.py startapp employees\n",
      "```"
     ]
    },
    {
     "cell_type": "markdown",
     "metadata": {},
     "source": [
      "Grab Models from Existing DB\n",
      "----------------------------\n",
      "\n",
      "Edit `datasnoop/settings.py` to point to `employee.db`:\n",
      "\n",
      "```\n",
      "DATABASES = {\n",
      "    'default': {\n",
      "        'ENGINE': 'django.db.backends.sqlite3',\n",
      "        'NAME': os.path.join(BASE_DIR, '../employees_db/employees.db'),\n",
      "    }\n",
      "}\n",
      "```"
     ]
    }
   ],
   "metadata": {}
  }
 ]
}