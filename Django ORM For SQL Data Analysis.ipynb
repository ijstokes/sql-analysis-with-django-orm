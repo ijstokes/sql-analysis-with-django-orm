{
 "metadata": {
  "name": ""
 },
 "nbformat": 3,
 "nbformat_minor": 0,
 "worksheets": [
  {
   "cells": [
    {
     "cell_type": "markdown",
     "metadata": {
      "slideshow": {
       "slide_type": "slide"
      }
     },
     "source": [
      "Django ORM For SQL Data Analysis\n",
      "================================\n",
      "\n",
      "* Clone my tutorial notes from github: https://github.com/ijstokes/sql-analysis-with-django-orm.git\n",
      "\n",
      "* Using MySQL [Employees Test DB](https://launchpad.net/test-db/) for trial data, with modified [employees.sql](employees.sql) to work with SQLite3.\n",
      "\n",
      "* Don't download this now -- 25 MB compressed, 250 MB uncompressed\n",
      "\n",
      "* Plus some work to massage SQL from MySQL syntax to something SQLite3 will be happy with -- repo contains updated schema in `employees.sql`, but some manual search-and-replace is still required.\n",
      "    * Hint if you use vim, adapt for other language search/replace:\n",
      "```\n",
      "%s/),/);^M INSERT INTO `replace_with_table_name` VALUES/g\n",
      "```\n",
      "\n",
      "* Unzip the Employees test database into the GitHub directory\n"
     ]
    },
    {
     "cell_type": "markdown",
     "metadata": {
      "slideshow": {
       "slide_type": "slide"
      }
     },
     "source": [
      "Create SQLite3 DB from SQL Dump\n",
      "-------------------------------\n",
      "```\n",
      "sqlite3 -init employees.sql employees.db\n",
      "```\n",
      "\n",
      "This will create 6 tables.  The main one is:\n",
      "* Employees\n",
      "    * `emp_no`\n",
      "    * `birth_date`\n",
      "    * `first_name`\n",
      "    * `last_name`\n",
      "    * `gender`\n",
      "    * `hire_date`\n",
      "\n",
      "The other 5 describe:\n",
      "    * Departments\n",
      "    * Managers (DeptManager)\n",
      "    * Salaries\n",
      "    * Titles\n",
      "    * Department Assignments (DeptEmp)\n",
      "\n",
      "Slurping this data in takes a little while (about 30 minutes for me)."
     ]
    },
    {
     "cell_type": "markdown",
     "metadata": {},
     "source": [
      "Initialize Django Environment\n",
      "-----------------------------\n",
      "\n",
      "You need to have Django installed.  A few of these options will work if you don't have it already:\n",
      "\n",
      "```bash\n",
      "pip install django\n",
      "conda install django\n",
      "```\n",
      "\n",
      "Now initialize the Django project:\n",
      "\n",
      "```bash\n",
      "django-admin.py startproject datasnoop\n",
      "mv datasnoop/datasnoop/* datasnoop\n",
      "mv datasnoop/manage.py .\n",
      "rm -Rf datasnoop/datasnoop\n",
      "```\n",
      "\n",
      "This sets up the basic Django pieces.  Now we need to add the \"app\" that will be the specific container for the Employee data:\n",
      "\n",
      "```bash\n",
      "pushd datasnoop\n",
      "./manage.py startapp employees\n",
      "popd\n",
      "```"
     ]
    },
    {
     "cell_type": "markdown",
     "metadata": {},
     "source": [
      "Grab Models from Existing DB\n",
      "----------------------------\n",
      "\n",
      "Edit `datasnoop/settings.py` to point to `employee.db`:\n",
      "\n",
      "```\n",
      "DATABASES = {\n",
      "    'default': {\n",
      "        'ENGINE': 'django.db.backends.sqlite3',\n",
      "        'NAME': os.path.join(BASE_DIR, '../employees_db/employees.db'),\n",
      "    }\n",
      "}\n",
      "```\n",
      "\n",
      "Now we can use `inspectdb` to extract models from the DB:\n",
      "\n",
      "```\n",
      "./manage.py inspectdb > datasnoop/employees/models.py \n",
      "```\n",
      "\n",
      "Let's take a look at what this has given us in `datasnoop/employees/models.py`:\n",
      "\n",
      "```sql\n",
      "class Employees(models.Model):\n",
      "    emp_no     = models.IntegerField(primary_key=True)\n",
      "    birth_date = models.DateField()\n",
      "    first_name = models.CharField(max_length=14)\n",
      "    last_name  = models.CharField(max_length=16)\n",
      "    gender     = models.CharField(max_length=1)\n",
      "    hire_date  = models.DateField()\n",
      "    class Meta:\n",
      "        managed  = False\n",
      "        db_table = 'employees'\n",
      "```"
     ]
    },
    {
     "cell_type": "markdown",
     "metadata": {},
     "source": [
      "Nice!  We now have an ORM definition for interacting with the DB."
     ]
    },
    {
     "cell_type": "markdown",
     "metadata": {},
     "source": [
      "Update DB with Django Doodads\n",
      "-----------------------------\n",
      "\n",
      "Take a look at our current tables:\n",
      "\n",
      "```\n",
      "$ sqlite3 employees_db/employees.db .tables\n",
      "    departments   dept_manager  salaries    \n",
      "    dept_emp      employees     titles      \n",
      "```\n",
      "\n",
      "Django has some of its own administrative tables it needs, so we'll create these:\n",
      "\n",
      "```\n",
      "./manage.py syncdb\n",
      "```\n",
      "\n",
      "When prompted, add an admin user account with a valid email address and password, then look at the tables that now exist:\n",
      "\n",
      "```\n",
      "$ sqlite3 employees_db/employees.db .tables\n",
      "    auth_group                  dept_manager              \n",
      "    auth_group_permissions      django_admin_log          \n",
      "    auth_permission             django_content_type       \n",
      "    auth_user                   django_session            \n",
      "    auth_user_groups            employees                 \n",
      "    auth_user_user_permissions  salaries                  \n",
      "    departments                 titles                    \n",
      "    dept_emp                  \n",
      "```"
     ]
    }
   ],
   "metadata": {}
  }
 ]
}