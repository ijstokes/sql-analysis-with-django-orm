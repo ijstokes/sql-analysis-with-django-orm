{
 "metadata": {
  "name": ""
 },
 "nbformat": 3,
 "nbformat_minor": 0,
 "worksheets": [
  {
   "cells": [
    {
     "cell_type": "markdown",
     "metadata": {
      "slideshow": {
       "slide_type": "slide"
      }
     },
     "source": [
      "Using the Python Django ORM For SQL Data Analysis\n",
      "=================================================\n",
      "\n",
      "[Ian Stokes-Rees](http://about.me/ijstokes),\n",
      "[@ijstokes](http://twitter.com/ijstokes) \n",
      "[![View Ian Stokes-Rees's LinkedIn profile](http://www.linkedin.com/img/webpromo/btn_in_20x15.png)](http://www.linkedin.com/in/ijstokes)\n",
      "\n",
      "[PyData Boston](http://pydata.org/bos2013), July 2013\n",
      "\n",
      "[Continuum Analytics](http://continuum.io)\n",
      "</span>\n",
      "<p><a href=http://continuum.io><img style=\"display:block;\n",
      "    margin-left: auto;\n",
      "    margin-right: auto\" src=https://ijstokes-public.s3.amazonaws.com/img/continuum-logo-color.png></a>\n",
      "</center></p>"
     ]
    },
    {
     "cell_type": "markdown",
     "metadata": {
      "slideshow": {
       "slide_type": "slide"
      }
     },
     "source": [
      "Setup\n",
      "-----\n",
      "\n",
      "* Clone my tutorial notes from github: [https://github.com/ijstokes/sql-analysis-with-django-orm.git](https://github.com/ijstokes/sql-analysis-with-django-orm.git)\n",
      "\n",
      "* Using MySQL [Employees Test DB](https://launchpad.net/test-db/) for trial data, with modified [`employees.sql`](employees.sql) to work with SQLite3.\n",
      "\n",
      "* Don't download this now -- 25 MB compressed, 250 MB uncompressed\n",
      "\n",
      "* Unzip the Employees test database into the GitHub directory"
     ]
    },
    {
     "cell_type": "markdown",
     "metadata": {
      "slideshow": {
       "slide_type": "slide"
      }
     },
     "source": [
      "Data Transformation\n",
      "-------------------\n",
      "\n",
      "* Some work to massage SQL from MySQL syntax to something SQLite3 will be happy with -- repo contains updated schema in `employees.sql`, but some manual search-and-replace is still required.\n",
      "  * Hint if you use vim, adapt for other language search/replace:\n",
      "    \n",
      "```\n",
      "%s/),/);^M INSERT INTO `replace_with_table_name` VALUES/g\n",
      "```\n",
      "\n",
      "* Need to change all foreign key references to department by string name to department by integer.\n",
      "* Need to remove composite primary keys and add an `id` field to all tables except `employees`.\n",
      "* Need to run `add_idx.py load_TABLENAME.dump` on all dump tables except `load_employees.dump`\n",
      "    "
     ]
    },
    {
     "cell_type": "markdown",
     "metadata": {
      "slideshow": {
       "slide_type": "slide"
      }
     },
     "source": [
      "Create SQLite3 DB from SQL Dump\n",
      "-------------------------------\n",
      "```\n",
      "sqlite3 -init employees.sql employees.db\n",
      "```\n",
      "\n",
      "This will create 6 tables.  The main one is:\n",
      "\n",
      "*  Employees\n",
      "  *  `emp_no`\n",
      "  *  `birth_date`\n",
      "  *  `first_name`\n",
      "  *  `last_name`\n",
      "  *  `gender`\n",
      "  *  `hire_date`\n",
      "\n",
      "The other 5 describe:\n",
      "\n",
      "*  Departments\n",
      "*  Managers (DeptManager)\n",
      "*  Salaries\n",
      "*  Titles\n",
      "*  Department Assignments (DeptEmp)\n",
      "\n",
      "Slurping this data in takes a little while (about 30 minutes for me)."
     ]
    },
    {
     "cell_type": "markdown",
     "metadata": {
      "slideshow": {
       "slide_type": "slide"
      }
     },
     "source": [
      "Initialize Django Environment\n",
      "-----------------------------\n",
      "\n",
      "You need to have Django installed.  A few of these options will work if you don't have it already:\n",
      "\n",
      "```bash\n",
      "pip install django\n",
      "conda install django\n",
      "```\n",
      "\n",
      "Now initialize the Django project:\n",
      "\n",
      "```bash\n",
      "django-admin.py startproject datasnoop\n",
      "mv datasnoop/datasnoop/* datasnoop\n",
      "mv datasnoop/manage.py .\n",
      "rm -Rf datasnoop/datasnoop\n",
      "```\n",
      "\n",
      "This sets up the basic Django pieces.  Now we need to add the \"app\" that will be the specific container for the Employee data:\n",
      "\n",
      "```bash\n",
      "pushd datasnoop\n",
      "./manage.py startapp employees\n",
      "popd\n",
      "```"
     ]
    },
    {
     "cell_type": "markdown",
     "metadata": {
      "slideshow": {
       "slide_type": "slide"
      }
     },
     "source": [
      "Grab Models from Existing DB\n",
      "----------------------------\n",
      "\n",
      "Edit `datasnoop/settings.py` to point to `employee.db`:\n",
      "\n",
      "```\n",
      "DATABASES = {\n",
      "    'default': {\n",
      "        'ENGINE': 'django.db.backends.sqlite3',\n",
      "        'NAME': os.path.join(BASE_DIR, '../employees_db/employees.db'),\n",
      "    }\n",
      "}\n",
      "```\n",
      "\n",
      "And also modify `datasnoop/settings.py` to include `datasnoop.employees` in `INSTALLED_APPS`:\n",
      "\n",
      "```\n",
      "INSTALLED_APPS = (\n",
      "    'django.contrib.admin',\n",
      "    'django.contrib.auth',\n",
      "    'django.contrib.contenttypes',\n",
      "    'django.contrib.sessions',\n",
      "    'django.contrib.messages',\n",
      "    'django.contrib.staticfiles',\n",
      "    'datasnoop.employees'\n",
      ")\n",
      "```"
     ]
    },
    {
     "cell_type": "markdown",
     "metadata": {
      "slideshow": {
       "slide_type": "slide"
      }
     },
     "source": [
      "Now we can use `inspectdb` to extract models from the DB:\n",
      "\n",
      "```\n",
      "./manage.py inspectdb > datasnoop/employees/models.py \n",
      "```\n",
      "\n",
      "Let's take a look at what this has given us in `datasnoop/employees/models.py`:\n",
      "\n",
      "```sql\n",
      "class Employees(models.Model):\n",
      "    emp_no     = models.IntegerField(primary_key=True)\n",
      "    birth_date = models.DateField()\n",
      "    first_name = models.CharField(max_length=14)\n",
      "    last_name  = models.CharField(max_length=16)\n",
      "    gender     = models.CharField(max_length=1)\n",
      "    hire_date  = models.DateField()\n",
      "    class Meta:\n",
      "        managed  = False\n",
      "        db_table = 'employees'\n",
      "```\n",
      "\n",
      "Nice!  We now have an ORM definition for interacting with the DB."
     ]
    },
    {
     "cell_type": "markdown",
     "metadata": {
      "slideshow": {
       "slide_type": "slide"
      }
     },
     "source": [
      "Create Model Admin Definitions\n",
      "------------------------------\n",
      "\n",
      "For our whizzy Django Admin interface to work, we need to register the auto-generated models using Django's admin class format.\n",
      "\n",
      "We need to create a file `datasnoop/employees/admin.py` that contains:\n",
      "\n",
      "```\n",
      "from django.contrib import admin\n",
      "from datasnoop.employees.models import Departments, DeptEmp, DeptManager\n",
      "from datasnoop.employees.models import Employees, Salaries, Titles\n",
      "\n",
      "for cls in (Departments, DeptEmp, DeptManager, Employees, Salaries, Titles):\n",
      "    admin.site.register(cls)\n",
      "```\n",
      "\n",
      "We'll see shortly that a bit more work will be needed but this is a good start."
     ]
    },
    {
     "cell_type": "markdown",
     "metadata": {
      "slideshow": {
       "slide_type": "slide"
      }
     },
     "source": [
      "Update DB with Django Doodads\n",
      "-----------------------------\n",
      "\n",
      "Take a look at our current tables:\n",
      "\n",
      "```\n",
      "$ sqlite3 employees_db/employees.db .tables\n",
      "    departments   dept_manager  salaries    \n",
      "    dept_emp      employees     titles      \n",
      "```\n",
      "\n",
      "Django has some of its own administrative tables it needs, so we'll create these:\n",
      "\n",
      "```\n",
      "./manage.py syncdb\n",
      "```\n",
      "\n",
      "When prompted, add an admin user account with a valid email address and password, then look at the tables that now exist:\n",
      "\n",
      "```\n",
      "$ sqlite3 employees_db/employees.db .tables\n",
      "    auth_group                  dept_manager              \n",
      "    auth_group_permissions      django_admin_log          \n",
      "    auth_permission             django_content_type       \n",
      "    auth_user                   django_session            \n",
      "    auth_user_groups            employees                 \n",
      "    auth_user_user_permissions  salaries                  \n",
      "    departments                 titles                    \n",
      "    dept_emp                  \n",
      "```"
     ]
    },
    {
     "cell_type": "markdown",
     "metadata": {
      "slideshow": {
       "slide_type": "slide"
      }
     },
     "source": [
      "Let's Take A Look!\n",
      "------------------\n",
      "\n",
      "We'll startup a simple webserver to connect to the admin interface of our Django website:\n",
      "\n",
      "```\n",
      "./manage.py runserver\n",
      "```\n",
      "\n",
      "Now connect to the admin interface via [`http://localhost:8000/admin/`](http://localhost:8000/admin/) with the username and password you set earlier.\n",
      "\n",
      "Well, not bad, but the aggregated lists of objects aren't very informative.  We'll fix that next."
     ]
    },
    {
     "cell_type": "markdown",
     "metadata": {
      "slideshow": {
       "slide_type": "slide"
      }
     },
     "source": [
      "Augment ModelAdmins\n",
      "-------------------\n",
      "\n",
      "Take a look at `datasnoop/employees/admin_basic.py`, which is what we started with:\n",
      "\n",
      "```\n",
      "from datasnoop.employees.models import Departments, DeptEmp, DeptManager, Employees, Salaries, Titles\n",
      "\n",
      "for cls in (Departments, DeptEmp, DeptManager, Employees, Salaries, Titles):\n",
      "    admin.site.register(cls)\n",
      "```\n",
      "\n",
      "We're just taking advantage of the automatic admin interface.  Instead, we need to specify exactly which fields we want to display in our list view, which we do in `datasnoop/employees/admin_list.py`:\n",
      "\n",
      "```\n",
      "class EmployeesAdmin(admin.ModelAdmin):\n",
      "    list_display = ('emp_no', 'last_name', 'first_name', 'gender', 'birth_date', 'hire_date')\n",
      "admin.site.register(Employees, EmployeesAdmin)\n",
      "```\n",
      "\n",
      "Now let's see what this give us through our Admin web interface: [`http://localhost:8000/admin/`](http://localhost:8000/admin/)"
     ]
    },
    {
     "cell_type": "markdown",
     "metadata": {
      "slideshow": {
       "slide_type": "slide"
      }
     },
     "source": [
      "Introduce Search and Filter\n",
      "---------------------------\n",
      "If we click on the column headers, we can see it will sort the results by that column.  Django Admin also provides mechanisms to facilitate search and filter.  Let's add those in, by looking at `datasnoop/employees/admin_filter.py`:\n",
      "\n",
      "```\n",
      "class EmployeesAdmin(admin.ModelAdmin):\n",
      "    list_display = ('emp_no', 'last_name', 'first_name', 'gender', 'birth_date', 'hire_date')\n",
      "    list_filter  = ('gender', 'birth_date', 'hire_date')\n",
      "    search_fields = ['last_name']\n",
      "    date_hierarchy = 'birth_date'\n",
      "admin.site.register(Employees, EmployeesAdmin)\n",
      "```\n",
      "\n"
     ]
    },
    {
     "cell_type": "markdown",
     "metadata": {
      "slideshow": {
       "slide_type": "slide"
      }
     },
     "source": [
      "Foreign Keys\n",
      "------------\n",
      "If you didn't perform the SQL data transformations described earlier, then the auto-generated models from `inspectdb` won't identify foreign keys, so unfortunately we can't reference through.\n",
      "\n",
      "As a challenge, see if you can modify `datasnoop/employees/models.py` to reference ForeignKeys correctly -- there are some catches because of how Django wants to auto-index all keys.\n",
      "\n",
      "Without `model.ForeignKey('Foo')` references we can't grab data from referenced fields."
     ]
    },
    {
     "cell_type": "markdown",
     "metadata": {
      "slideshow": {
       "slide_type": "slide"
      }
     },
     "source": [
      "Django CLI to the ORM\n",
      "---------------------\n",
      "\n",
      "We get into the Django CLI by doing:\n",
      "\n",
      "```\n",
      "./manage.py shell\n",
      "```\n",
      "\n",
      "From here we can do:\n",
      "\n",
      "```\n",
      "from datasnoop.employees.models import Employees, Departments, Salaries\n",
      "men   = Employees.objects.filter(gender='M')\n",
      "parto = Employees.objects.get(emp_no=10003)\n",
      "```"
     ]
    },
    {
     "cell_type": "markdown",
     "metadata": {
      "slideshow": {
       "slide_type": "slide"
      }
     },
     "source": [
      "Further References\n",
      "------------------\n",
      "\n",
      "* [Django ORM\u200e](https://docs.djangoproject.com/en/dev/topics/db/\u200e)\n",
      "* [Django Legacy DB Integration](https://docs.djangoproject.com/en/dev/howto/legacy-databases/\u200e)\n",
      "* [Django Admin Interface\u200e](https://docs.djangoproject.com/en/dev/ref/contrib/admin/\u200e)"
     ]
    }
   ],
   "metadata": {}
  }
 ]
}